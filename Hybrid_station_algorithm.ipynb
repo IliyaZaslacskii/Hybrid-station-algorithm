{
  "nbformat": 4,
  "nbformat_minor": 0,
  "metadata": {
    "colab": {
      "provenance": []
    },
    "kernelspec": {
      "name": "python3",
      "display_name": "Python 3"
    },
    "language_info": {
      "name": "python"
    }
  },
  "cells": [
    {
      "cell_type": "markdown",
      "source": [
        "#algorithm"
      ],
      "metadata": {
        "id": "PVb4842Gv93M"
      }
    },
    {
      "cell_type": "markdown",
      "source": [
        "##Library"
      ],
      "metadata": {
        "id": "z_Inqb6zwFrB"
      }
    },
    {
      "cell_type": "code",
      "execution_count": null,
      "metadata": {
        "id": "E7Jt01VQv0mu"
      },
      "outputs": [],
      "source": [
        "!pip install geopy\n",
        "!pip install geopy timezonefinder\n",
        "!pip install xlsxwriter\n",
        "!pip install \"git+https://github.com/oemof/feedinlib.git\" -q\n",
        "!pip install siphon\n",
        "!pip install pvlib\n",
        "!pip install NREL-PySAM\n",
        "!pip install pyspark\n",
        "import os\n",
        "import requests\n",
        "import xarray as xr\n",
        "import csv\n",
        "import plotly.graph_objects as go\n",
        "import pandas as pd\n",
        "import numpy as np\n",
        "import matplotlib.pyplot as plt\n",
        "import pvlib\n",
        "from pvlib import pvsystem\n",
        "from pvlib.forecast import GFS, NAM, NDFD, HRRR, RAP\n",
        "from feedinlib import WindPowerPlant\n",
        "from feedinlib import get_power_plant_data\n",
        "from feedinlib import era5\n",
        "from geopy.geocoders import Nominatim\n",
        "from timezonefinder import TimezoneFinder\n",
        "from datetime import datetime, timedelta\n",
        "from matplotlib.dates import DateFormatter\n",
        "from sklearn.preprocessing import MinMaxScaler\n",
        "from pyspark.sql.functions import col, pandas_udf\n",
        "from pyspark.sql.types import LongType\n",
        "from requests import get"
      ]
    },
    {
      "cell_type": "code",
      "source": [
        "uid = '170535'\n",
        "keypart = '8eda45d9-e9a2-468d-8154-732dd3a40435'\n",
        "with open('/root/.cdsapirc','w') as keyFile:\n",
        "      keyFile.write(\n",
        "          'url: https://cds.climate.copernicus.eu/api/v2\\n' + \n",
        "          f'key: {uid}:{keypart}'\n",
        "    )\n",
        "!cat '/root/.cdsapirc'\n",
        "\n",
        "openenergy = get('https://openenergy-platform.org/api/v0/schema/supply/tables/wind_turbine_library/rows')"
      ],
      "metadata": {
        "id": "rF7DyDi1wPHJ"
      },
      "execution_count": null,
      "outputs": []
    },
    {
      "cell_type": "markdown",
      "source": [
        "##Class"
      ],
      "metadata": {
        "id": "3rumKagpwKsZ"
      }
    },
    {
      "cell_type": "code",
      "source": [
        "class multy:\n",
        "  def __init__(self, city, start, end):\n",
        "    geolocator = Nominatim(user_agent=\"user\")\n",
        "    location = geolocator.geocode(city)\n",
        "    tf = TimezoneFinder()\n",
        "    loc = (location.latitude, location.longitude)\n",
        "    timezone = tf.timezone_at(lng=location.longitude, lat=location.latitude)\n",
        "    locations = [(location.latitude, location.longitude)]\n",
        "    self.start = start\n",
        "    self.end = end\n",
        "    self.latitude = location.latitude\n",
        "    self.longitude = location.longitude\n",
        "    self.altitude = location.altitude\n",
        "\n",
        "    base_url_csv = \"https://power.larc.nasa.gov//api/temporal/hourly/point?parameters=WS10M,ALLSKY_SFC_SW_DIFF,WS50M,T2M,PS,ALLSKY_SFC_SW_DWN,CLRSKY_SFC_SW_DWN,RH2M&community=SB&longitude={longitude}&latitude={latitude}&start={start}&end={end}&format=CSV\"\n",
        "    filename_template = \"Weather.csv\"\n",
        "    for latitude, longitude in locations:\n",
        "        api_request_url = base_url_csv.format(longitude=longitude, latitude=latitude, start=start, end=end)\n",
        "        response = requests.get(url=api_request_url, verify=True, timeout=30.00)\n",
        "        filename = filename_template.format(latitude=latitude, longitude=longitude)\n",
        "\n",
        "    with open(os.path.split(filename)[1], 'wb') as f, \\\n",
        "            requests.get(api_request_url, stream=True) as r:\n",
        "       for line in r.iter_lines():\n",
        "            f.write(line+'\\n'.encode())\n",
        "\n",
        "  def weather(self):\n",
        "    custom_datetime = lambda x: datetime.strptime(x, '%d %m %Y %H')\n",
        "    df = pd.read_csv('/content/Weather.csv', skiprows=16, encoding='utf-8', parse_dates={ 'Date_Time': ['DY', 'MO', 'YEAR', 'HR'] }, date_parser=custom_datetime\n",
        "                      )\n",
        "    df.rename(columns = {'T2M':'Tamb','PS':'pressure', 'Date_Time': 'time','ALLSKY_SFC_SW_DWN': 'GHI', 'CLRSKY_SFC_SW_DWN': 'DHI', 'RH2M':'RH', 'ALLSKY_SFC_SW_DIFF': 'dni'}, inplace = True)\n",
        "    df['temperature'] = df['Tamb'] + 273.15 \n",
        "    df['pressure'] = df['pressure']*1000\n",
        "    df.index.rename('time')\n",
        "    return df\n",
        "\n",
        "  def windpowerlib_weather(self):\n",
        "\n",
        "    date1  = datetime.strptime(str(self.start), \"%Y%m%d\")\n",
        "    date2 = date1 + timedelta(days=1)\n",
        "    start_date, end_date = \"{}-{}-{}\".format(date1.year, date1.month, date1.day), \"{}-{}-{}\".format(date2.year, date2.month, date2.day)\n",
        "    # установить переменную, установленную для загрузки\n",
        "    variable = \"windpowerlib\"\n",
        "    target_file = 'ERA5_pvlib.nc'\n",
        "  \n",
        "    ds = era5.get_era5_data_from_datespan_and_position(\n",
        "      variable=variable,\n",
        "      start_date=start_date, end_date=end_date, \n",
        "      latitude=self.latitude, longitude=self.longitude,\n",
        "      target_file=target_file)\n",
        "  \n",
        "    era5_netcdf_filename = 'ERA5_pvlib.nc'\n",
        "    ds = xr.open_dataset(era5_netcdf_filename)\n",
        "    ds2 = era5.format_windpowerlib(ds)\n",
        "\n",
        "    custom_datetime = lambda x: datetime.strptime(x, '%d %m %Y %H')\n",
        "    df = pd.read_csv('/content/Weather.csv', skiprows=16, encoding='utf-8', parse_dates={ 'Date_Time': ['DY', 'MO', 'YEAR', 'HR'] }, date_parser=custom_datetime\n",
        "                      )\n",
        "    df.rename(columns = {'T2M':'temperature','PS':'pressure', 'Date_Time': 'time'}, inplace = True)\n",
        "    df.drop(['ALLSKY_SFC_SW_DWN','CLRSKY_SFC_SW_DWN','ALLSKY_SFC_SW_DIFF','RH2M'], axis = 1 , inplace = True)\n",
        "    df['temperature'] = df['temperature'] + 273.15 \n",
        "    df['pressure'] = df['pressure']*1000\n",
        "    df['roughness_length'] = round(ds2.iloc[1]['roughness_length'].item(),2)\n",
        "    df['latitude'] = round(self.latitude,1)\n",
        "    df['longitude'] = round(self.longitude,1)\n",
        "    df = df.set_index(['time', 'latitude', 'longitude'])\n",
        "    midx = pd.MultiIndex(\n",
        "    levels=[\n",
        "        [\"wind_speed\",\"pressure\",\"temperature\",\"roughness_length\"],\n",
        "        [0,2,10,50]\n",
        "    ],\n",
        "    codes=[\n",
        "        [0,0,1,2,3],\n",
        "        [2,3,0,1,0]\n",
        "    ],\n",
        "    names=[\"variable\",\"height\"],\n",
        "    )\n",
        "    df.columns = midx\n",
        "    df.dropna(inplace=True)\n",
        "    df\n",
        "    return df\n",
        "\n",
        "  def PVlib_weather(self):\n",
        "    custom_datetime = lambda x: datetime.strptime(x, '%d %m %Y %H')\n",
        "    df = pd.read_csv('/content/Weather.csv', skiprows=16, encoding='utf-8', parse_dates={ 'Date_Time': ['DY', 'MO', 'YEAR', 'HR'] }, date_parser=custom_datetime\n",
        "                      )\n",
        "    df.rename(columns = {'T2M':'Tamb','PS':'pressure', 'Date_Time': 'time','ALLSKY_SFC_SW_DWN': 'GHI', 'CLRSKY_SFC_SW_DWN': 'DHI', 'RH2M':'RH', 'SZA' : 'zenith', 'ALLSKY_SFC_SW_DIFF': 'dni'}, inplace = True)\n",
        "    df['temperature'] = df['Tamb'] + 273.15 \n",
        "    df['pressure'] = df['pressure']*1000\n",
        "    df.set_index(['time'], inplace= True)\n",
        "    df.index.name = None\n",
        "    df.drop(['temperature','WS50M','pressure','RH'], axis = 1 , inplace = True)\n",
        "    df.rename(columns = {'WS10M': 'wind_speed', 'GHI': 'ghi', 'DHI': 'dhi', 'Tamb': 'temp_air'}, inplace = True)\n",
        "    df = df.reindex(columns=['ghi', 'dhi', 'dni', 'temp_air', 'wind_speed'])\n",
        "    df\n",
        "    return df"
      ],
      "metadata": {
        "id": "kwiH81p-wSds"
      },
      "execution_count": null,
      "outputs": []
    },
    {
      "cell_type": "code",
      "source": [
        "def Wind(Wind_power, windpowerlib_weather:pd.Series) -> pd.Series:\n",
        "  df = pd.DataFrame(openenergy.json())\n",
        "  df = df[['manufacturer', 'name','turbine_type', 'nominal_power', 'rotor_diameter', 'rotor_area', 'hub_height', 'has_power_curve', 'has_cp_curve']]\n",
        "  df[\"has_power_curve\"] = df[\"has_power_curve\"].astype(int)\n",
        "  df[\"has_cp_curve\"] = df[\"has_cp_curve\"].astype(int)\n",
        "  df = df.loc[((df['has_power_curve'] == 1) &(df['has_cp_curve' ] == 1))]\n",
        "  d = min(sorted(df['nominal_power']), key=lambda x: abs(Wind_power - x))\n",
        "  df = df.loc[((df['nominal_power'] <= d)&((df['rotor_diameter'].astype(int)/2)<= 50))]\n",
        "  df.reset_index(drop=True, inplace=True)\n",
        "  turbine_data = {\n",
        "    'turbine_type': df.at [0, 'turbine_type'],  #название турбины, как в библиотеке турбин\n",
        "    'hub_height': 50  # in m\n",
        "    }\n",
        "  wind_turbine = WindPowerPlant(**turbine_data)\n",
        "  feedin = wind_turbine.feedin(\n",
        "    weather=windpowerlib_weather)\n",
        "  result_wind = pd.DataFrame(feedin)\n",
        "  result_wind = result_wind.reset_index( level = [1 , 2] )\n",
        "  return result_wind"
      ],
      "metadata": {
        "id": "WPPjWsiMwmUH"
      },
      "execution_count": null,
      "outputs": []
    },
    {
      "cell_type": "code",
      "source": [
        "tom = multy('Kemerovo', 20191231, 20210201)\n"
      ],
      "metadata": {
        "id": "DFqEj0Y8wihu"
      },
      "execution_count": null,
      "outputs": []
    }
  ]
}